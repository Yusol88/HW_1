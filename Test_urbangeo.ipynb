{
  "cells": [
    {
      "cell_type": "markdown",
      "metadata": {
        "id": "view-in-github",
        "colab_type": "text"
      },
      "source": [
        "<a href=\"https://colab.research.google.com/github/Yusol88/HW_1/blob/master/Test_urbangeo.ipynb\" target=\"_parent\"><img src=\"https://colab.research.google.com/assets/colab-badge.svg\" alt=\"Open In Colab\"/></a>"
      ]
    },
    {
      "cell_type": "markdown",
      "id": "d3d8a2ac",
      "metadata": {
        "id": "d3d8a2ac"
      },
      "source": [
        "# Алгоритм автоматической застройки участка\n",
        "\n",
        "**Описание задачи:**\n",
        "\n",
        "- На вход подаются:\n",
        "  - Границы участка в формате GeoJSON (FeatureCollection с Polygon).\n",
        "  - Ограничения по плотности застройки (процент от площади, допустимый для застройки).\n",
        "  - Минимальное расстояние между объектами (например, 10 метров).\n",
        "  - Дополнительные ограничения – наличие дорог, лесов, водоёмов, на которых нельзя строить (также в GeoJSON).\n",
        "\n",
        "- На выходе:\n",
        "  - GeoJSON-файл с информацией об объектах (здания, дороги, парки).\n",
        "  - Изображение плана участка (например, .png).\n",
        "\n",
        "**Используемые библиотеки:** `json`, `geopandas`, `shapely`, `matplotlib`, `random`."
      ]
    },
    {
      "cell_type": "code",
      "execution_count": null,
      "id": "ffcf4ce8",
      "metadata": {
        "id": "ffcf4ce8"
      },
      "outputs": [],
      "source": [
        "!pip install"
      ]
    },
    {
      "cell_type": "code",
      "execution_count": 1,
      "id": "a760f83b",
      "metadata": {
        "id": "a760f83b"
      },
      "outputs": [],
      "source": [
        "# Импорт необходимых библиотек\n",
        "import json\n",
        "import geopandas as gpd\n",
        "import matplotlib.pyplot as plt\n",
        "from shapely.geometry import shape, Polygon, box\n",
        "from shapely.ops import unary_union\n",
        "import random"
      ]
    },
    {
      "cell_type": "markdown",
      "id": "21523f0a",
      "metadata": {
        "id": "21523f0a"
      },
      "source": [
        "## Задание входных параметров\n",
        "\n",
        "Зададим следующие параметры:\n",
        "- **DENSITY_PERCENTAGE**: Допустимый процент застройки от доступной территории.\n",
        "- **MIN_DISTANCE**: Минимальное расстояние между зданиями (в условных единицах; для упрощения, поскольку координаты заданы в градусах, используем масштабный коэффициент).\n",
        "- **NUM_BUILDINGS**: Количество зданий, которое требуется разместить (для демонстрации)."
      ]
    },
    {
      "cell_type": "code",
      "execution_count": 2,
      "id": "9d3e7b4e",
      "metadata": {
        "id": "9d3e7b4e"
      },
      "outputs": [],
      "source": [
        "# Параметры застройки\n",
        "DENSITY_PERCENTAGE = 50   # Допустимый процент площади для застройки\n",
        "MIN_DISTANCE = 10         # Минимальное расстояние между зданиями (условное значение)\n",
        "NUM_BUILDINGS = 5         # Количество зданий, генерируемых для примера"
      ]
    },
    {
      "cell_type": "markdown",
      "id": "c2f17311",
      "metadata": {
        "id": "c2f17311"
      },
      "source": [
        "## Загрузка входного GeoJSON\n",
        "\n",
        "Пример входного файла с основными зонами:\n",
        "- **\"Зона застройки\"** – основной полигон, где возможно строительство.\n",
        "- **\"Лесная зона\"** и **\"Дорога\"** – зоны с ограничением (restriction: \"no_build\")."
      ]
    },
    {
      "cell_type": "code",
      "execution_count": 3,
      "id": "0bb83bf4",
      "metadata": {
        "colab": {
          "base_uri": "https://localhost:8080/"
        },
        "id": "0bb83bf4",
        "outputId": "c5dbf212-21ff-4a35-afc2-33109e8537a2"
      },
      "outputs": [
        {
          "output_type": "stream",
          "name": "stdout",
          "text": [
            "Входные данные загружены.\n"
          ]
        }
      ],
      "source": [
        "# Пример входного GeoJSON в виде строки\n",
        "input_geojson_str = \"\"\"\n",
        "{\n",
        "  \"type\": \"FeatureCollection\",\n",
        "  \"features\": [\n",
        "    {\n",
        "      \"type\": \"Feature\",\n",
        "      \"properties\": {\"name\": \"Зона застройки\"},\n",
        "      \"geometry\": {\n",
        "        \"type\": \"Polygon\",\n",
        "        \"coordinates\": [[[37.6173, 55.7558], [37.6179, 55.7565], [37.6185, 55.7559], [37.6173, 55.7558]]]\n",
        "      }\n",
        "    },\n",
        "    {\n",
        "      \"type\": \"Feature\",\n",
        "      \"properties\": {\"name\": \"Лесная зона\", \"restriction\": \"no_build\"},\n",
        "      \"geometry\": {\n",
        "        \"type\": \"Polygon\",\n",
        "        \"coordinates\": [[[37.6180, 55.7560], [37.6185, 55.7565], [37.6190, 55.7560], [37.6180, 55.7560]]]\n",
        "      }\n",
        "    },\n",
        "    {\n",
        "      \"type\": \"Feature\",\n",
        "      \"properties\": {\"name\": \"Дорога\", \"restriction\": \"no_build\"},\n",
        "      \"geometry\": {\n",
        "        \"type\": \"LineString\",\n",
        "        \"coordinates\": [[37.6175, 55.7555], [37.6185, 55.7555]]\n",
        "      }\n",
        "    }\n",
        "  ]\n",
        "}\n",
        "\"\"\"\n",
        "\n",
        "# Преобразование строки в словарь\n",
        "input_data = json.loads(input_geojson_str)\n",
        "\n",
        "# Создаем GeoDataFrame из входных данных\n",
        "gdf = gpd.GeoDataFrame.from_features(input_data[\"features\"])\n",
        "print(\"Входные данные загружены.\")"
      ]
    },
    {
      "cell_type": "code",
      "source": [
        "from google.colab import drive\n",
        "drive.mount('/content/drive')"
      ],
      "metadata": {
        "colab": {
          "base_uri": "https://localhost:8080/"
        },
        "id": "L3itsxNn4gu2",
        "outputId": "5a48d8db-7b52-4eac-d6d3-a29e0196a500"
      },
      "id": "L3itsxNn4gu2",
      "execution_count": 5,
      "outputs": [
        {
          "output_type": "stream",
          "name": "stdout",
          "text": [
            "Mounted at /content/drive\n"
          ]
        }
      ]
    },
    {
      "cell_type": "markdown",
      "id": "5a47c115",
      "metadata": {
        "id": "5a47c115"
      },
      "source": [
        "## Выделение зон\n",
        "\n",
        "**Основная зона застройки:**\n",
        "Фильтруем объекты по свойству `\"name\": \"Зона застройки\"`.\n",
        "\n",
        "**Ограничивающие зоны:**\n",
        "Фильтруем объекты, где `restriction` равен `\"no_build\"` (например, лес, дорога)."
      ]
    },
    {
      "cell_type": "code",
      "execution_count": 4,
      "id": "a4d10e55",
      "metadata": {
        "colab": {
          "base_uri": "https://localhost:8080/",
          "height": 572
        },
        "id": "a4d10e55",
        "outputId": "5bec8072-f508-4a42-c9ff-e14ff5da14b0"
      },
      "outputs": [
        {
          "output_type": "error",
          "ename": "KeyError",
          "evalue": "'properties'",
          "traceback": [
            "\u001b[0;31m---------------------------------------------------------------------------\u001b[0m",
            "\u001b[0;31mKeyError\u001b[0m                                  Traceback (most recent call last)",
            "\u001b[0;32m/usr/local/lib/python3.11/dist-packages/pandas/core/indexes/base.py\u001b[0m in \u001b[0;36mget_loc\u001b[0;34m(self, key)\u001b[0m\n\u001b[1;32m   3804\u001b[0m         \u001b[0;32mtry\u001b[0m\u001b[0;34m:\u001b[0m\u001b[0;34m\u001b[0m\u001b[0;34m\u001b[0m\u001b[0m\n\u001b[0;32m-> 3805\u001b[0;31m             \u001b[0;32mreturn\u001b[0m \u001b[0mself\u001b[0m\u001b[0;34m.\u001b[0m\u001b[0m_engine\u001b[0m\u001b[0;34m.\u001b[0m\u001b[0mget_loc\u001b[0m\u001b[0;34m(\u001b[0m\u001b[0mcasted_key\u001b[0m\u001b[0;34m)\u001b[0m\u001b[0;34m\u001b[0m\u001b[0;34m\u001b[0m\u001b[0m\n\u001b[0m\u001b[1;32m   3806\u001b[0m         \u001b[0;32mexcept\u001b[0m \u001b[0mKeyError\u001b[0m \u001b[0;32mas\u001b[0m \u001b[0merr\u001b[0m\u001b[0;34m:\u001b[0m\u001b[0;34m\u001b[0m\u001b[0;34m\u001b[0m\u001b[0m\n",
            "\u001b[0;32mindex.pyx\u001b[0m in \u001b[0;36mpandas._libs.index.IndexEngine.get_loc\u001b[0;34m()\u001b[0m\n",
            "\u001b[0;32mindex.pyx\u001b[0m in \u001b[0;36mpandas._libs.index.IndexEngine.get_loc\u001b[0;34m()\u001b[0m\n",
            "\u001b[0;32mpandas/_libs/hashtable_class_helper.pxi\u001b[0m in \u001b[0;36mpandas._libs.hashtable.PyObjectHashTable.get_item\u001b[0;34m()\u001b[0m\n",
            "\u001b[0;32mpandas/_libs/hashtable_class_helper.pxi\u001b[0m in \u001b[0;36mpandas._libs.hashtable.PyObjectHashTable.get_item\u001b[0;34m()\u001b[0m\n",
            "\u001b[0;31mKeyError\u001b[0m: 'properties'",
            "\nThe above exception was the direct cause of the following exception:\n",
            "\u001b[0;31mKeyError\u001b[0m                                  Traceback (most recent call last)",
            "\u001b[0;32m<ipython-input-4-c7a5e145d2ce>\u001b[0m in \u001b[0;36m<cell line: 0>\u001b[0;34m()\u001b[0m\n\u001b[1;32m      1\u001b[0m \u001b[0;31m# Извлечение основной зоны застройки\u001b[0m\u001b[0;34m\u001b[0m\u001b[0;34m\u001b[0m\u001b[0m\n\u001b[0;32m----> 2\u001b[0;31m \u001b[0mzone_build\u001b[0m \u001b[0;34m=\u001b[0m \u001b[0mgdf\u001b[0m\u001b[0;34m[\u001b[0m\u001b[0mgdf\u001b[0m\u001b[0;34m[\u001b[0m\u001b[0;34m'properties'\u001b[0m\u001b[0;34m]\u001b[0m\u001b[0;34m.\u001b[0m\u001b[0mapply\u001b[0m\u001b[0;34m(\u001b[0m\u001b[0;32mlambda\u001b[0m \u001b[0mx\u001b[0m\u001b[0;34m:\u001b[0m \u001b[0mx\u001b[0m\u001b[0;34m.\u001b[0m\u001b[0mget\u001b[0m\u001b[0;34m(\u001b[0m\u001b[0;34m\"name\"\u001b[0m\u001b[0;34m)\u001b[0m \u001b[0;34m==\u001b[0m \u001b[0;34m\"Зона застройки\"\u001b[0m\u001b[0;34m)\u001b[0m\u001b[0;34m]\u001b[0m\u001b[0;34m.\u001b[0m\u001b[0mgeometry\u001b[0m\u001b[0;34m.\u001b[0m\u001b[0miloc\u001b[0m\u001b[0;34m[\u001b[0m\u001b[0;36m0\u001b[0m\u001b[0;34m]\u001b[0m\u001b[0;34m\u001b[0m\u001b[0;34m\u001b[0m\u001b[0m\n\u001b[0m\u001b[1;32m      3\u001b[0m \u001b[0mprint\u001b[0m\u001b[0;34m(\u001b[0m\u001b[0;34m\"Основная зона застройки получена.\"\u001b[0m\u001b[0;34m)\u001b[0m\u001b[0;34m\u001b[0m\u001b[0;34m\u001b[0m\u001b[0m\n\u001b[1;32m      4\u001b[0m \u001b[0;34m\u001b[0m\u001b[0m\n\u001b[1;32m      5\u001b[0m \u001b[0;31m# Извлечение ограничивающих зон\u001b[0m\u001b[0;34m\u001b[0m\u001b[0;34m\u001b[0m\u001b[0m\n",
            "\u001b[0;32m/usr/local/lib/python3.11/dist-packages/geopandas/geodataframe.py\u001b[0m in \u001b[0;36m__getitem__\u001b[0;34m(self, key)\u001b[0m\n\u001b[1;32m   1748\u001b[0m         \u001b[0;32mreturn\u001b[0m \u001b[0ma\u001b[0m \u001b[0mGeoDataFrame\u001b[0m\u001b[0;34m.\u001b[0m\u001b[0;34m\u001b[0m\u001b[0;34m\u001b[0m\u001b[0m\n\u001b[1;32m   1749\u001b[0m         \"\"\"\n\u001b[0;32m-> 1750\u001b[0;31m         \u001b[0mresult\u001b[0m \u001b[0;34m=\u001b[0m \u001b[0msuper\u001b[0m\u001b[0;34m(\u001b[0m\u001b[0;34m)\u001b[0m\u001b[0;34m.\u001b[0m\u001b[0m__getitem__\u001b[0m\u001b[0;34m(\u001b[0m\u001b[0mkey\u001b[0m\u001b[0;34m)\u001b[0m\u001b[0;34m\u001b[0m\u001b[0;34m\u001b[0m\u001b[0m\n\u001b[0m\u001b[1;32m   1751\u001b[0m         \u001b[0;31m# Custom logic to avoid waiting for pandas GH51895\u001b[0m\u001b[0;34m\u001b[0m\u001b[0;34m\u001b[0m\u001b[0m\n\u001b[1;32m   1752\u001b[0m         \u001b[0;31m# result is not geometry dtype for multi-indexes\u001b[0m\u001b[0;34m\u001b[0m\u001b[0;34m\u001b[0m\u001b[0m\n",
            "\u001b[0;32m/usr/local/lib/python3.11/dist-packages/pandas/core/frame.py\u001b[0m in \u001b[0;36m__getitem__\u001b[0;34m(self, key)\u001b[0m\n\u001b[1;32m   4100\u001b[0m             \u001b[0;32mif\u001b[0m \u001b[0mself\u001b[0m\u001b[0;34m.\u001b[0m\u001b[0mcolumns\u001b[0m\u001b[0;34m.\u001b[0m\u001b[0mnlevels\u001b[0m \u001b[0;34m>\u001b[0m \u001b[0;36m1\u001b[0m\u001b[0;34m:\u001b[0m\u001b[0;34m\u001b[0m\u001b[0;34m\u001b[0m\u001b[0m\n\u001b[1;32m   4101\u001b[0m                 \u001b[0;32mreturn\u001b[0m \u001b[0mself\u001b[0m\u001b[0;34m.\u001b[0m\u001b[0m_getitem_multilevel\u001b[0m\u001b[0;34m(\u001b[0m\u001b[0mkey\u001b[0m\u001b[0;34m)\u001b[0m\u001b[0;34m\u001b[0m\u001b[0;34m\u001b[0m\u001b[0m\n\u001b[0;32m-> 4102\u001b[0;31m             \u001b[0mindexer\u001b[0m \u001b[0;34m=\u001b[0m \u001b[0mself\u001b[0m\u001b[0;34m.\u001b[0m\u001b[0mcolumns\u001b[0m\u001b[0;34m.\u001b[0m\u001b[0mget_loc\u001b[0m\u001b[0;34m(\u001b[0m\u001b[0mkey\u001b[0m\u001b[0;34m)\u001b[0m\u001b[0;34m\u001b[0m\u001b[0;34m\u001b[0m\u001b[0m\n\u001b[0m\u001b[1;32m   4103\u001b[0m             \u001b[0;32mif\u001b[0m \u001b[0mis_integer\u001b[0m\u001b[0;34m(\u001b[0m\u001b[0mindexer\u001b[0m\u001b[0;34m)\u001b[0m\u001b[0;34m:\u001b[0m\u001b[0;34m\u001b[0m\u001b[0;34m\u001b[0m\u001b[0m\n\u001b[1;32m   4104\u001b[0m                 \u001b[0mindexer\u001b[0m \u001b[0;34m=\u001b[0m \u001b[0;34m[\u001b[0m\u001b[0mindexer\u001b[0m\u001b[0;34m]\u001b[0m\u001b[0;34m\u001b[0m\u001b[0;34m\u001b[0m\u001b[0m\n",
            "\u001b[0;32m/usr/local/lib/python3.11/dist-packages/pandas/core/indexes/base.py\u001b[0m in \u001b[0;36mget_loc\u001b[0;34m(self, key)\u001b[0m\n\u001b[1;32m   3810\u001b[0m             ):\n\u001b[1;32m   3811\u001b[0m                 \u001b[0;32mraise\u001b[0m \u001b[0mInvalidIndexError\u001b[0m\u001b[0;34m(\u001b[0m\u001b[0mkey\u001b[0m\u001b[0;34m)\u001b[0m\u001b[0;34m\u001b[0m\u001b[0;34m\u001b[0m\u001b[0m\n\u001b[0;32m-> 3812\u001b[0;31m             \u001b[0;32mraise\u001b[0m \u001b[0mKeyError\u001b[0m\u001b[0;34m(\u001b[0m\u001b[0mkey\u001b[0m\u001b[0;34m)\u001b[0m \u001b[0;32mfrom\u001b[0m \u001b[0merr\u001b[0m\u001b[0;34m\u001b[0m\u001b[0;34m\u001b[0m\u001b[0m\n\u001b[0m\u001b[1;32m   3813\u001b[0m         \u001b[0;32mexcept\u001b[0m \u001b[0mTypeError\u001b[0m\u001b[0;34m:\u001b[0m\u001b[0;34m\u001b[0m\u001b[0;34m\u001b[0m\u001b[0m\n\u001b[1;32m   3814\u001b[0m             \u001b[0;31m# If we have a listlike key, _check_indexing_error will raise\u001b[0m\u001b[0;34m\u001b[0m\u001b[0;34m\u001b[0m\u001b[0m\n",
            "\u001b[0;31mKeyError\u001b[0m: 'properties'"
          ]
        }
      ],
      "source": [
        "# Извлечение основной зоны застройки\n",
        "zone_build = gdf[gdf['properties'].apply(lambda x: x.get(\"name\") == \"Зона застройки\")].geometry.iloc[0]\n",
        "print(\"Основная зона застройки получена.\")\n",
        "\n",
        "# Извлечение ограничивающих зон\n",
        "restricted_zones = gdf[gdf['properties'].apply(lambda x: x.get(\"restriction\") == \"no_build\")].geometry\n",
        "\n",
        "# Объединяем все ограничивающие зоны в один геометрический объект\n",
        "restricted_union = unary_union(list(restricted_zones))\n",
        "print(\"Ограничивающие зоны объединены.\")\n",
        "\n",
        "# Вычисление доступной территории для строительства (исключаем ограничивающие зоны)\n",
        "allowed_area = zone_build.difference(restricted_union)\n",
        "print(\"Доступная территория вычислена.\")"
      ]
    },
    {
      "cell_type": "markdown",
      "id": "33002e3b",
      "metadata": {
        "id": "33002e3b"
      },
      "source": [
        "## Расчет допустимой площади застройки\n",
        "\n",
        "Максимально допустимая площадь для строительства определяется как процент от площади доступной территории."
      ]
    },
    {
      "cell_type": "code",
      "execution_count": null,
      "id": "f37f8e81",
      "metadata": {
        "id": "f37f8e81"
      },
      "outputs": [],
      "source": [
        "max_buildable_area = allowed_area.area * (DENSITY_PERCENTAGE / 100)\n",
        "print(\"Максимальная допустимая площадь застройки:\", max_buildable_area)"
      ]
    },
    {
      "cell_type": "markdown",
      "id": "a3c5e1e4",
      "metadata": {
        "id": "a3c5e1e4"
      },
      "source": [
        "## Генерация объектов застройки (зданий)\n",
        "\n",
        "Для демонстрации реализуем упрощённый алгоритм:\n",
        "- Генерируем случайные прямоугольники (здания), размещая их внутри доступной территории.\n",
        "- Проверяем, что сгенерированный прямоугольник полностью содержится в `allowed_area`.\n",
        "- Проверяем, что расстояние до уже размещённых зданий не меньше `MIN_DISTANCE`.\n",
        "\n",
        "*Замечание:* Координаты заданы в градусах, поэтому для проверки расстояния используем упрощённое приближение."
      ]
    },
    {
      "cell_type": "code",
      "execution_count": null,
      "id": "04d0174b",
      "metadata": {
        "id": "04d0174b"
      },
      "outputs": [],
      "source": [
        "def generate_random_building(allowed_polygon, max_width=0.0003, max_height=0.0002):\n",
        "    \"\"\"\n",
        "    Генерирует прямоугольник (здание) с случайными размерами в заданных пределах,\n",
        "    расположенный внутри bounding box доступной территории.\n",
        "    \"\"\"\n",
        "    minx, miny, maxx, maxy = allowed_polygon.bounds\n",
        "    # Случайный выбор размеров здания (в градусах)\n",
        "    width = random.uniform(max_width*0.5, max_width)\n",
        "    height = random.uniform(max_height*0.5, max_height)\n",
        "\n",
        "    # Пытаемся найти подходящее расположение (до 100 попыток)\n",
        "    for _ in range(100):\n",
        "        rand_x = random.uniform(minx, maxx - width)\n",
        "        rand_y = random.uniform(miny, maxy - height)\n",
        "        candidate = box(rand_x, rand_y, rand_x+width, rand_y+height)\n",
        "        if allowed_polygon.contains(candidate):\n",
        "            return candidate\n",
        "    return None\n",
        "\n",
        "# Размещаем здания с учетом минимального расстояния\n",
        "buildings = []\n",
        "attempts = 0\n",
        "while len(buildings) < NUM_BUILDINGS and attempts < 1000:\n",
        "    candidate = generate_random_building(allowed_area)\n",
        "    if candidate is None:\n",
        "        attempts += 1\n",
        "        continue\n",
        "\n",
        "    # Проверка: расстояние до уже размещённых зданий должно быть не меньше MIN_DISTANCE\n",
        "    too_close = False\n",
        "    for b in buildings:\n",
        "        # Упрощённая проверка расстояния с коэффициентом (1 градус ≈ 111 км)\n",
        "        if candidate.distance(b) < MIN_DISTANCE * 1e-5:\n",
        "            too_close = True\n",
        "            break\n",
        "    if not too_close:\n",
        "        buildings.append(candidate)\n",
        "    attempts += 1\n",
        "\n",
        "print(f\"Размещено {len(buildings)} зданий.\")"
      ]
    },
    {
      "cell_type": "markdown",
      "id": "5f18c3e5",
      "metadata": {
        "id": "5f18c3e5"
      },
      "source": [
        "## Формирование выходного GeoJSON\n",
        "\n",
        "Будем формировать GeoJSON с объектами:\n",
        "- **residential** – здания;\n",
        "- **road** – дороги (копируем из входных данных);\n",
        "- **park** – оставшаяся доступная территория после застройки.\n",
        "\n",
        "Для каждого объекта формируем Feature с нужными свойствами и геометрией."
      ]
    },
    {
      "cell_type": "code",
      "execution_count": null,
      "id": "0eb35f8d",
      "metadata": {
        "id": "0eb35f8d"
      },
      "outputs": [],
      "source": [
        "features = []\n",
        "\n",
        "# Добавляем здания\n",
        "for b in buildings:\n",
        "    feat = {\n",
        "        \"type\": \"Feature\",\n",
        "        \"properties\": {\"type\": \"residential\"},\n",
        "        \"geometry\": json.loads(gpd.GeoSeries([b]).to_json())[\"features\"][0][\"geometry\"]\n",
        "    }\n",
        "    features.append(feat)\n",
        "\n",
        "# Добавляем дороги из входных данных (фильтруем по \"restriction\": \"no_build\" и типу LineString)\n",
        "for idx, row in gdf.iterrows():\n",
        "    if row[\"properties\"].get(\"restriction\") == \"no_build\" and row[\"geometry\"].geom_type == \"LineString\":\n",
        "        feat = {\n",
        "            \"type\": \"Feature\",\n",
        "            \"properties\": {\"type\": \"road\"},\n",
        "            \"geometry\": json.loads(gpd.GeoSeries([row[\"geometry\"]]).to_json())[\"features\"][0][\"geometry\"]\n",
        "        }\n",
        "        features.append(feat)\n",
        "\n",
        "# Определяем зону парка – оставшаяся доступная территория за вычетом зданий\n",
        "buildings_union = unary_union(buildings) if buildings else None\n",
        "if buildings_union:\n",
        "    park_area = allowed_area.difference(buildings_union.buffer(0))\n",
        "else:\n",
        "    park_area = allowed_area\n",
        "\n",
        "feat_park = {\n",
        "    \"type\": \"Feature\",\n",
        "    \"properties\": {\"type\": \"park\"},\n",
        "    \"geometry\": json.loads(gpd.GeoSeries([park_area]).to_json())[\"features\"][0][\"geometry\"]\n",
        "}\n",
        "features.append(feat_park)\n",
        "\n",
        "# Формирование итогового GeoJSON\n",
        "output_geojson = {\n",
        "    \"type\": \"FeatureCollection\",\n",
        "    \"features\": features\n",
        "}\n",
        "\n",
        "# Сохраняем GeoJSON в файл\n",
        "with open(\"output_plan.geojson\", \"w\", encoding=\"utf-8\") as f:\n",
        "    json.dump(output_geojson, f, ensure_ascii=False, indent=2)\n",
        "\n",
        "print(\"GeoJSON файл с планом застройки сохранён как 'output_plan.geojson'.\")"
      ]
    },
    {
      "cell_type": "markdown",
      "id": "d7a1f59b",
      "metadata": {
        "id": "d7a1f59b"
      },
      "source": [
        "## Визуализация плана застройки\n",
        "\n",
        "Используем `matplotlib` и `geopandas` для визуализации:\n",
        "- Рисуем основную зону застройки, ограничивающие зоны, доступную территорию.\n",
        "- Отображаем здания (синим) и зону парка (желтым).\n",
        "- Добавляем легенду и сохраняем изображение плана."
      ]
    },
    {
      "cell_type": "code",
      "execution_count": null,
      "id": "ae8d0a43",
      "metadata": {
        "id": "ae8d0a43"
      },
      "outputs": [],
      "source": [
        "fig, ax = plt.subplots(figsize=(8,8))\n",
        "\n",
        "# Рисуем основную зону застройки\n",
        "gpd.GeoSeries([zone_build]).plot(ax=ax, facecolor=\"none\", edgecolor=\"black\", linewidth=2, label=\"Зона застройки\")\n",
        "\n",
        "# Рисуем ограничивающие зоны\n",
        "gpd.GeoSeries([restricted_union]).plot(ax=ax, facecolor=\"red\", alpha=0.3, label=\"Ограничения (no_build)\")\n",
        "\n",
        "# Рисуем доступную территорию\n",
        "gpd.GeoSeries([allowed_area]).plot(ax=ax, facecolor=\"green\", alpha=0.3, label=\"Доступная территория\")\n",
        "\n",
        "# Рисуем здания\n",
        "if buildings:\n",
        "    gpd.GeoSeries(buildings).plot(ax=ax, facecolor=\"blue\", alpha=0.7, edgecolor=\"k\", label=\"Здания\")\n",
        "\n",
        "# Рисуем зону парка\n",
        "gpd.GeoSeries([park_area]).plot(ax=ax, facecolor=\"yellow\", alpha=0.3, label=\"Парк\")\n",
        "\n",
        "plt.legend()\n",
        "plt.title(\"План застройки участка\")\n",
        "plt.xlabel(\"Долгота\")\n",
        "plt.ylabel(\"Широта\")\n",
        "plt.tight_layout()\n",
        "\n",
        "# Сохраняем изображение в файл\n",
        "plt.savefig(\"plan_zastroyki.png\", dpi=300)\n",
        "plt.show()\n",
        "\n",
        "print(\"Изображение плана застройки сохранено как 'plan_zastroyki.png'.\")"
      ]
    }
  ],
  "metadata": {
    "kernelspec": {
      "display_name": "Python 3",
      "language": "python",
      "name": "python3"
    },
    "language_info": {
      "codemirror_mode": {
        "name": "ipython",
        "version": 3
      },
      "file_extension": ".py",
      "mimetype": "text/x-python",
      "name": "python",
      "nbconvert_exporter": "python",
      "pygments_lexer": "ipython3",
      "version": "3.12.2"
    },
    "colab": {
      "provenance": [],
      "include_colab_link": true
    }
  },
  "nbformat": 4,
  "nbformat_minor": 5
}