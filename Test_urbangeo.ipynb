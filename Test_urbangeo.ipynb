{
  "cells": [
    {
      "cell_type": "markdown",
      "metadata": {
        "id": "view-in-github",
        "colab_type": "text"
      },
      "source": [
        "<a href=\"https://colab.research.google.com/github/Yusol88/HW_1/blob/master/Test_urbangeo.ipynb\" target=\"_parent\"><img src=\"https://colab.research.google.com/assets/colab-badge.svg\" alt=\"Open In Colab\"/></a>"
      ]
    },
    {
      "cell_type": "markdown",
      "id": "d3d8a2ac",
      "metadata": {
        "id": "d3d8a2ac"
      },
      "source": [
        "# Алгоритм автоматической застройки участка\n",
        "\n",
        "**Описание задачи:**\n",
        "\n",
        "- На вход подаются:\n",
        "  - Границы участка в формате GeoJSON (FeatureCollection с Polygon).\n",
        "  - Ограничения по плотности застройки (процент от площади, допустимый для застройки).\n",
        "  - Минимальное расстояние между объектами (например, 10 метров).\n",
        "  - Дополнительные ограничения – наличие дорог, лесов, водоёмов, на которых нельзя строить (также в GeoJSON).\n",
        "\n",
        "- На выходе:\n",
        "  - GeoJSON-файл с информацией об объектах (здания, дороги, парки).\n",
        "  - Изображение плана участка (например, .png).\n",
        "\n",
        "**Используемые библиотеки:** `json`, `geopandas`, `shapely`, `matplotlib`, `random`."
      ]
    },
    {
      "cell_type": "code",
      "execution_count": null,
      "id": "ffcf4ce8",
      "metadata": {
        "id": "ffcf4ce8"
      },
      "outputs": [],
      "source": [
        "!pip install"
      ]
    },
    {
      "cell_type": "code",
      "execution_count": 4,
      "id": "a760f83b",
      "metadata": {
        "id": "a760f83b"
      },
      "outputs": [],
      "source": [
        "# Импорт необходимых библиотек\n",
        "import json\n",
        "import geopandas as gpd\n",
        "import matplotlib.pyplot as plt\n",
        "from shapely.geometry import shape, Polygon, box\n",
        "from shapely.ops import unary_union\n",
        "import random"
      ]
    },
    {
      "cell_type": "markdown",
      "id": "21523f0a",
      "metadata": {
        "id": "21523f0a"
      },
      "source": [
        "## Задание входных параметров\n",
        "\n",
        "Зададим следующие параметры:\n",
        "- **DENSITY_PERCENTAGE**: Допустимый процент застройки от доступной территории.\n",
        "- **MIN_DISTANCE**: Минимальное расстояние между зданиями (в условных единицах; для упрощения, поскольку координаты заданы в градусах, используем масштабный коэффициент).\n",
        "- **NUM_BUILDINGS**: Количество зданий, которое требуется разместить (для демонстрации)."
      ]
    },
    {
      "cell_type": "code",
      "execution_count": 5,
      "id": "9d3e7b4e",
      "metadata": {
        "id": "9d3e7b4e"
      },
      "outputs": [],
      "source": [
        "# Параметры застройки\n",
        "DENSITY_PERCENTAGE = 50   # Допустимый процент площади для застройки\n",
        "MIN_DISTANCE = 10         # Минимальное расстояние между зданиями (условное значение)\n",
        "NUM_BUILDINGS = 5         # Количество зданий, генерируемых для примера"
      ]
    },
    {
      "cell_type": "markdown",
      "id": "c2f17311",
      "metadata": {
        "id": "c2f17311"
      },
      "source": [
        "## Загрузка входного GeoJSON\n",
        "\n",
        "Пример входного файла с основными зонами:\n",
        "- **\"Зона застройки\"** – основной полигон, где возможно строительство.\n",
        "- **\"Лесная зона\"** и **\"Дорога\"** – зоны с ограничением (restriction: \"no_build\")."
      ]
    },
    {
      "cell_type": "code",
      "execution_count": 6,
      "id": "0bb83bf4",
      "metadata": {
        "colab": {
          "base_uri": "https://localhost:8080/"
        },
        "id": "0bb83bf4",
        "outputId": "22673748-b993-4219-dc73-8a52879b4e83"
      },
      "outputs": [
        {
          "output_type": "stream",
          "name": "stdout",
          "text": [
            "Входные данные загружены.\n"
          ]
        }
      ],
      "source": [
        "# Пример входного GeoJSON в виде строки\n",
        "input_geojson_str = \"\"\"\n",
        "{\n",
        "  \"type\": \"FeatureCollection\",\n",
        "  \"features\": [\n",
        "    {\n",
        "      \"type\": \"Feature\",\n",
        "      \"properties\": {\"name\": \"Зона застройки\"},\n",
        "      \"geometry\": {\n",
        "        \"type\": \"Polygon\",\n",
        "        \"coordinates\": [[[37.6173, 55.7558], [37.6179, 55.7565], [37.6185, 55.7559], [37.6173, 55.7558]]]\n",
        "      }\n",
        "    },\n",
        "    {\n",
        "      \"type\": \"Feature\",\n",
        "      \"properties\": {\"name\": \"Лесная зона\", \"restriction\": \"no_build\"},\n",
        "      \"geometry\": {\n",
        "        \"type\": \"Polygon\",\n",
        "        \"coordinates\": [[[37.6180, 55.7560], [37.6185, 55.7565], [37.6190, 55.7560], [37.6180, 55.7560]]]\n",
        "      }\n",
        "    },\n",
        "    {\n",
        "      \"type\": \"Feature\",\n",
        "      \"properties\": {\"name\": \"Дорога\", \"restriction\": \"no_build\"},\n",
        "      \"geometry\": {\n",
        "        \"type\": \"LineString\",\n",
        "        \"coordinates\": [[37.6175, 55.7555], [37.6185, 55.7555]]\n",
        "      }\n",
        "    }\n",
        "  ]\n",
        "}\n",
        "\"\"\"\n",
        "\n",
        "# Преобразование строки в словарь\n",
        "input_data = json.loads(input_geojson_str)\n",
        "\n",
        "# Создаем GeoDataFrame из входных данных\n",
        "gdf = gpd.GeoDataFrame.from_features(input_data[\"features\"])\n",
        "print(\"Входные данные загружены.\")"
      ]
    },
    {
      "cell_type": "code",
      "source": [
        "from google.colab import drive\n",
        "drive.mount('/content/drive')"
      ],
      "metadata": {
        "colab": {
          "base_uri": "https://localhost:8080/"
        },
        "id": "L3itsxNn4gu2",
        "outputId": "5a48d8db-7b52-4eac-d6d3-a29e0196a500"
      },
      "id": "L3itsxNn4gu2",
      "execution_count": null,
      "outputs": [
        {
          "output_type": "stream",
          "name": "stdout",
          "text": [
            "Mounted at /content/drive\n"
          ]
        }
      ]
    },
    {
      "cell_type": "markdown",
      "id": "5a47c115",
      "metadata": {
        "id": "5a47c115"
      },
      "source": [
        "## Выделение зон\n",
        "\n",
        "**Основная зона застройки:**\n",
        "Фильтруем объекты по свойству `\"name\": \"Зона застройки\"`.\n",
        "\n",
        "**Ограничивающие зоны:**\n",
        "Фильтруем объекты, где `restriction` равен `\"no_build\"` (например, лес, дорога)."
      ]
    },
    {
      "cell_type": "code",
      "execution_count": 7,
      "id": "a4d10e55",
      "metadata": {
        "colab": {
          "base_uri": "https://localhost:8080/"
        },
        "id": "a4d10e55",
        "outputId": "d8897955-88de-4703-b97f-ac5c9cbee94f"
      },
      "outputs": [
        {
          "output_type": "stream",
          "name": "stdout",
          "text": [
            "Основная зона застройки получена.\n",
            "Ограничивающие зоны объединены.\n",
            "Доступная территория вычислена.\n"
          ]
        }
      ],
      "source": [
        "# Извлечение основной зоны застройки\n",
        "zone_build = gdf[gdf['name'] == \"Зона застройки\"].geometry.iloc[0]\n",
        "print(\"Основная зона застройки получена.\")\n",
        "\n",
        "# Извлечение ограничивающих зон\n",
        "restricted_zones = gdf[gdf['restriction'] == \"no_build\"].geometry\n",
        "\n",
        "# Объединяем все ограничивающие зоны в один геометрический объект\n",
        "restricted_union = unary_union(list(restricted_zones))\n",
        "print(\"Ограничивающие зоны объединены.\")\n",
        "\n",
        "# Вычисление доступной территории для строительства (исключаем ограничивающие зоны)\n",
        "allowed_area = zone_build.difference(restricted_union)\n",
        "print(\"Доступная территория вычислена.\")"
      ]
    },
    {
      "cell_type": "markdown",
      "id": "33002e3b",
      "metadata": {
        "id": "33002e3b"
      },
      "source": [
        "## Расчет допустимой площади застройки\n",
        "\n",
        "Максимально допустимая площадь для строительства определяется как процент от площади доступной территории."
      ]
    },
    {
      "cell_type": "code",
      "execution_count": 8,
      "id": "f37f8e81",
      "metadata": {
        "id": "f37f8e81",
        "outputId": "9c50eee0-031c-4423-efa8-b884db275766",
        "colab": {
          "base_uri": "https://localhost:8080/"
        }
      },
      "outputs": [
        {
          "output_type": "stream",
          "name": "stdout",
          "text": [
            "Максимальная допустимая площадь застройки: 1.7500000000149358e-07\n"
          ]
        }
      ],
      "source": [
        "max_buildable_area = allowed_area.area * (DENSITY_PERCENTAGE / 100)\n",
        "print(\"Максимальная допустимая площадь застройки:\", max_buildable_area)"
      ]
    },
    {
      "cell_type": "markdown",
      "id": "a3c5e1e4",
      "metadata": {
        "id": "a3c5e1e4"
      },
      "source": [
        "## Генерация объектов застройки (зданий)\n",
        "\n",
        "Для демонстрации реализуем упрощённый алгоритм:\n",
        "- Генерируем случайные прямоугольники (здания), размещая их внутри доступной территории.\n",
        "- Проверяем, что сгенерированный прямоугольник полностью содержится в `allowed_area`.\n",
        "- Проверяем, что расстояние до уже размещённых зданий не меньше `MIN_DISTANCE`.\n",
        "\n",
        "*Замечание:* Координаты заданы в градусах, поэтому для проверки расстояния используем упрощённое приближение."
      ]
    },
    {
      "cell_type": "code",
      "execution_count": 9,
      "id": "04d0174b",
      "metadata": {
        "id": "04d0174b",
        "outputId": "6cb32ec9-a85a-42c8-ee83-d0bb0390865d",
        "colab": {
          "base_uri": "https://localhost:8080/"
        }
      },
      "outputs": [
        {
          "output_type": "stream",
          "name": "stdout",
          "text": [
            "Размещено 3 зданий.\n"
          ]
        }
      ],
      "source": [
        "def generate_random_building(allowed_polygon, max_width=0.0003, max_height=0.0002):\n",
        "    \"\"\"\n",
        "    Генерирует прямоугольник (здание) с случайными размерами в заданных пределах,\n",
        "    расположенный внутри bounding box доступной территории.\n",
        "    \"\"\"\n",
        "    minx, miny, maxx, maxy = allowed_polygon.bounds\n",
        "    # Случайный выбор размеров здания (в градусах)\n",
        "    width = random.uniform(max_width*0.5, max_width)\n",
        "    height = random.uniform(max_height*0.5, max_height)\n",
        "\n",
        "    # Пытаемся найти подходящее расположение (до 100 попыток)\n",
        "    for _ in range(100):\n",
        "        rand_x = random.uniform(minx, maxx - width)\n",
        "        rand_y = random.uniform(miny, maxy - height)\n",
        "        candidate = box(rand_x, rand_y, rand_x+width, rand_y+height)\n",
        "        if allowed_polygon.contains(candidate):\n",
        "            return candidate\n",
        "    return None\n",
        "\n",
        "# Размещаем здания с учетом минимального расстояния\n",
        "buildings = []\n",
        "attempts = 0\n",
        "while len(buildings) < NUM_BUILDINGS and attempts < 1000:\n",
        "    candidate = generate_random_building(allowed_area)\n",
        "    if candidate is None:\n",
        "        attempts += 1\n",
        "        continue\n",
        "\n",
        "    # Проверка: расстояние до уже размещённых зданий должно быть не меньше MIN_DISTANCE\n",
        "    too_close = False\n",
        "    for b in buildings:\n",
        "        # Упрощённая проверка расстояния с коэффициентом (1 градус ≈ 111 км)\n",
        "        if candidate.distance(b) < MIN_DISTANCE * 1e-5:\n",
        "            too_close = True\n",
        "            break\n",
        "    if not too_close:\n",
        "        buildings.append(candidate)\n",
        "    attempts += 1\n",
        "\n",
        "print(f\"Размещено {len(buildings)} зданий.\")"
      ]
    },
    {
      "cell_type": "markdown",
      "id": "5f18c3e5",
      "metadata": {
        "id": "5f18c3e5"
      },
      "source": [
        "## Формирование выходного GeoJSON\n",
        "\n",
        "Будем формировать GeoJSON с объектами:\n",
        "- **residential** – здания;\n",
        "- **road** – дороги (копируем из входных данных);\n",
        "- **park** – оставшаяся доступная территория после застройки.\n",
        "\n",
        "Для каждого объекта формируем Feature с нужными свойствами и геометрией."
      ]
    },
    {
      "cell_type": "code",
      "execution_count": 11,
      "id": "0eb35f8d",
      "metadata": {
        "id": "0eb35f8d",
        "outputId": "2914d6f5-c41c-413e-a450-074b9df8248d",
        "colab": {
          "base_uri": "https://localhost:8080/"
        }
      },
      "outputs": [
        {
          "output_type": "stream",
          "name": "stdout",
          "text": [
            "Пропущена строка 0: отсутствует поле properties\n",
            "Пропущена строка 1: отсутствует поле properties\n",
            "Пропущена строка 2: отсутствует поле properties\n",
            "GeoJSON файл с планом застройки сохранён как 'output_plan.geojson'.\n"
          ]
        }
      ],
      "source": [
        "features = []\n",
        "\n",
        "# Добавляем здания\n",
        "for b in buildings:\n",
        "    try:\n",
        "        feat = {\n",
        "            \"type\": \"Feature\",\n",
        "            \"properties\": {\"type\": \"residential\"},\n",
        "            \"geometry\": json.loads(gpd.GeoSeries([b]).to_json())[\"features\"][0][\"geometry\"]\n",
        "        }\n",
        "        features.append(feat)\n",
        "    except Exception as e:\n",
        "        print(f\"Ошибка при добавлении здания: {e}\")\n",
        "        continue\n",
        "\n",
        "# Добавляем дороги из входных данных (фильтруем по \"restriction\": \"no_build\" и типу LineString)\n",
        "for idx, row in gdf.iterrows():\n",
        "    try:\n",
        "        if \"properties\" not in row:\n",
        "            print(f\"Пропущена строка {idx}: отсутствует поле properties\")\n",
        "            continue\n",
        "\n",
        "        if row[\"properties\"].get(\"restriction\") == \"no_build\" and row[\"geometry\"].geom_type == \"LineString\":\n",
        "            feat = {\n",
        "                \"type\": \"Feature\",\n",
        "                \"properties\": {\"type\": \"road\"},\n",
        "                \"geometry\": json.loads(gpd.GeoSeries([row[\"geometry\"]]).to_json())[\"features\"][0][\"geometry\"]\n",
        "            }\n",
        "            features.append(feat)\n",
        "    except Exception as e:\n",
        "        print(f\"Ошибка при обработке дороги {idx}: {e}\")\n",
        "        continue\n",
        "\n",
        "# Определяем зону парка – оставшаяся доступная территория за вычетом зданий\n",
        "try:\n",
        "    buildings_union = unary_union(buildings) if buildings else None\n",
        "    if buildings_union:\n",
        "        park_area = allowed_area.difference(buildings_union.buffer(0))\n",
        "    else:\n",
        "        park_area = allowed_area\n",
        "\n",
        "    feat_park = {\n",
        "        \"type\": \"Feature\",\n",
        "        \"properties\": {\"type\": \"park\"},\n",
        "        \"geometry\": json.loads(gpd.GeoSeries([park_area]).to_json())[\"features\"][0][\"geometry\"]\n",
        "    }\n",
        "    features.append(feat_park)\n",
        "except Exception as e:\n",
        "    print(f\"Ошибка при создании зоны парка: {e}\")\n",
        "\n",
        "# Формирование итогового GeoJSON\n",
        "output_geojson = {\n",
        "    \"type\": \"FeatureCollection\",\n",
        "    \"features\": features\n",
        "}\n",
        "\n",
        "# Сохраняем GeoJSON в файл\n",
        "try:\n",
        "    with open(\"output_plan.geojson\", \"w\", encoding=\"utf-8\") as f:\n",
        "        json.dump(output_geojson, f, ensure_ascii=False, indent=2)\n",
        "    print(\"GeoJSON файл с планом застройки сохранён как 'output_plan.geojson'.\")\n",
        "except Exception as e:\n",
        "    print(f\"Ошибка при сохранении файла: {e}\")"
      ]
    },
    {
      "cell_type": "markdown",
      "id": "d7a1f59b",
      "metadata": {
        "id": "d7a1f59b"
      },
      "source": [
        "## Визуализация плана застройки\n",
        "\n",
        "Используем `matplotlib` и `geopandas` для визуализации:\n",
        "- Рисуем основную зону застройки, ограничивающие зоны, доступную территорию.\n",
        "- Отображаем здания (синим) и зону парка (желтым).\n",
        "- Добавляем легенду и сохраняем изображение плана."
      ]
    },
    {
      "cell_type": "code",
      "execution_count": 12,
      "id": "ae8d0a43",
      "metadata": {
        "id": "ae8d0a43",
        "outputId": "900c63ce-c443-4690-b0f5-8ca85e00b4b8",
        "colab": {
          "base_uri": "https://localhost:8080/",
          "height": 582
        }
      },
      "outputs": [
        {
          "output_type": "stream",
          "name": "stderr",
          "text": [
            "<ipython-input-12-b86f9c2e472d>:19: UserWarning: Legend does not support handles for PatchCollection instances.\n",
            "See: https://matplotlib.org/stable/tutorials/intermediate/legend_guide.html#implementing-a-custom-legend-handler\n",
            "  plt.legend()\n"
          ]
        },
        {
          "output_type": "display_data",
          "data": {
            "text/plain": [
              "<Figure size 800x800 with 1 Axes>"
            ],
            "image/png": "[encoded data removed]"
          },
          "metadata": {}
        },
        {
          "output_type": "stream",
          "name": "stdout",
          "text": [
            "Изображение плана застройки сохранено как 'plan_zastroyki.png'.\n"
          ]
        }
      ],
      "source": [
        "fig, ax = plt.subplots(figsize=(8,8))\n",
        "\n",
        "# Рисуем основную зону застройки\n",
        "gpd.GeoSeries([zone_build]).plot(ax=ax, facecolor=\"none\", edgecolor=\"black\", linewidth=2, label=\"Зона застройки\")\n",
        "\n",
        "# Рисуем ограничивающие зоны\n",
        "gpd.GeoSeries([restricted_union]).plot(ax=ax, facecolor=\"red\", alpha=0.3, label=\"Ограничения (no_build)\")\n",
        "\n",
        "# Рисуем доступную территорию\n",
        "gpd.GeoSeries([allowed_area]).plot(ax=ax, facecolor=\"green\", alpha=0.3, label=\"Доступная территория\")\n",
        "\n",
        "# Рисуем здания\n",
        "if buildings:\n",
        "    gpd.GeoSeries(buildings).plot(ax=ax, facecolor=\"blue\", alpha=0.7, edgecolor=\"k\", label=\"Здания\")\n",
        "\n",
        "# Рисуем зону парка\n",
        "gpd.GeoSeries([park_area]).plot(ax=ax, facecolor=\"yellow\", alpha=0.3, label=\"Парк\")\n",
        "\n",
        "plt.legend()\n",
        "plt.title(\"План застройки участка\")\n",
        "plt.xlabel(\"Долгота\")\n",
        "plt.ylabel(\"Широта\")\n",
        "plt.tight_layout()\n",
        "\n",
        "# Сохраняем изображение в файл\n",
        "plt.savefig(\"plan_zastroyki.png\", dpi=300)\n",
        "plt.show()\n",
        "\n",
        "print(\"Изображение плана застройки сохранено как 'plan_zastroyki.png'.\")"
      ]
    }
  ],
  "metadata": {
    "kernelspec": {
      "display_name": "Python 3",
      "language": "python",
      "name": "python3"
    },
    "language_info": {
      "codemirror_mode": {
        "name": "ipython",
        "version": 3
      },
      "file_extension": ".py",
      "mimetype": "text/x-python",
      "name": "python",
      "nbconvert_exporter": "python",
      "pygments_lexer": "ipython3",
      "version": "3.12.2"
    },
    "colab": {
      "provenance": [],
      "include_colab_link": true
    }
  },
  "nbformat": 4,
  "nbformat_minor": 5
}